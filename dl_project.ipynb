{
  "cells": [
    {
      "cell_type": "code",
      "execution_count": null,
      "metadata": {
        "id": "WHCIiXWoJu58"
      },
      "outputs": [],
      "source": [
        "import pandas as pd\n",
        "import numpy as np\n",
        "import matplotlib.pyplot as plt\n",
        "import seaborn as sns\n",
        "\n",
        "pd.set_option('display.max_columns', None)\n",
        "sns.set(style=\"whitegrid\")\n",
        "\n",
        "import warnings\n",
        "warnings.filterwarnings(\"ignore\", category=FutureWarning)"
      ]
    },
    {
      "cell_type": "markdown",
      "metadata": {
        "id": "tAlZOhxTJu58"
      },
      "source": [
        "## 1. Dataset Overview\n",
        "\n",
        "In this section, we load the dataset, check its basic structure, and analyze the distribution of the target variable `Review_Score`.\n",
        "We also explore a few example rows to understand the kind of data we are working with.\n"
      ]
    },
    {
      "cell_type": "code",
      "execution_count": null,
      "metadata": {
        "colab": {
          "base_uri": "https://localhost:8080/",
          "height": 389
        },
        "id": "8SagwiTWJu59",
        "outputId": "08163f04-8aa2-4b91-a6b0-df40eb62c932"
      },
      "outputs": [
        {
          "output_type": "stream",
          "name": "stdout",
          "text": [
            "Dataset shape: (413, 9)\n"
          ]
        },
        {
          "output_type": "execute_result",
          "data": {
            "text/plain": [
              "                                       Hotel_Address Review_Date  \\\n",
              "0  104 104 Bayswater Rd Westminster Borough Londo...   4/27/2017   \n",
              "1  55 55 61 Westbourne Terrace Westminster Boroug...   6/11/2016   \n",
              "2  350 350 Oxford Street Westminster Borough Lond...    1/9/2016   \n",
              "\n",
              "                              Hotel_Name Reviewer_Nationality  \\\n",
              "0             Thistle Kensington Gardens             Ireland    \n",
              "1  Shaftesbury Premier London Paddington           Australia    \n",
              "2       Radisson Blu Edwardian Berkshire         Switzerland    \n",
              "\n",
              "   Hotel_number_reviews  Reviewer_number_reviews  Review_Score  \\\n",
              "0                  2134                        1           7.1   \n",
              "1                  3609                        8           6.3   \n",
              "2                  1600                        1           5.8   \n",
              "\n",
              "                                              Review  Review_Type  \n",
              "0   Bigger reception area Did not take breakfast ...  Good_review  \n",
              "1            No face washers and poor quality towels   Bad_review  \n",
              "2                          Very small room Nice stag   Bad_review  "
            ],
            "text/html": [
              "\n",
              "  <div id=\"df-2586c549-8a4b-41e3-91e8-e23273e46a41\" class=\"colab-df-container\">\n",
              "    <div>\n",
              "<style scoped>\n",
              "    .dataframe tbody tr th:only-of-type {\n",
              "        vertical-align: middle;\n",
              "    }\n",
              "\n",
              "    .dataframe tbody tr th {\n",
              "        vertical-align: top;\n",
              "    }\n",
              "\n",
              "    .dataframe thead th {\n",
              "        text-align: right;\n",
              "    }\n",
              "</style>\n",
              "<table border=\"1\" class=\"dataframe\">\n",
              "  <thead>\n",
              "    <tr style=\"text-align: right;\">\n",
              "      <th></th>\n",
              "      <th>Hotel_Address</th>\n",
              "      <th>Review_Date</th>\n",
              "      <th>Hotel_Name</th>\n",
              "      <th>Reviewer_Nationality</th>\n",
              "      <th>Hotel_number_reviews</th>\n",
              "      <th>Reviewer_number_reviews</th>\n",
              "      <th>Review_Score</th>\n",
              "      <th>Review</th>\n",
              "      <th>Review_Type</th>\n",
              "    </tr>\n",
              "  </thead>\n",
              "  <tbody>\n",
              "    <tr>\n",
              "      <th>0</th>\n",
              "      <td>104 104 Bayswater Rd Westminster Borough Londo...</td>\n",
              "      <td>4/27/2017</td>\n",
              "      <td>Thistle Kensington Gardens</td>\n",
              "      <td>Ireland</td>\n",
              "      <td>2134</td>\n",
              "      <td>1</td>\n",
              "      <td>7.1</td>\n",
              "      <td>Bigger reception area Did not take breakfast ...</td>\n",
              "      <td>Good_review</td>\n",
              "    </tr>\n",
              "    <tr>\n",
              "      <th>1</th>\n",
              "      <td>55 55 61 Westbourne Terrace Westminster Boroug...</td>\n",
              "      <td>6/11/2016</td>\n",
              "      <td>Shaftesbury Premier London Paddington</td>\n",
              "      <td>Australia</td>\n",
              "      <td>3609</td>\n",
              "      <td>8</td>\n",
              "      <td>6.3</td>\n",
              "      <td>No face washers and poor quality towels</td>\n",
              "      <td>Bad_review</td>\n",
              "    </tr>\n",
              "    <tr>\n",
              "      <th>2</th>\n",
              "      <td>350 350 Oxford Street Westminster Borough Lond...</td>\n",
              "      <td>1/9/2016</td>\n",
              "      <td>Radisson Blu Edwardian Berkshire</td>\n",
              "      <td>Switzerland</td>\n",
              "      <td>1600</td>\n",
              "      <td>1</td>\n",
              "      <td>5.8</td>\n",
              "      <td>Very small room Nice stag</td>\n",
              "      <td>Bad_review</td>\n",
              "    </tr>\n",
              "  </tbody>\n",
              "</table>\n",
              "</div>\n",
              "    <div class=\"colab-df-buttons\">\n",
              "\n",
              "  <div class=\"colab-df-container\">\n",
              "    <button class=\"colab-df-convert\" onclick=\"convertToInteractive('df-2586c549-8a4b-41e3-91e8-e23273e46a41')\"\n",
              "            title=\"Convert this dataframe to an interactive table.\"\n",
              "            style=\"display:none;\">\n",
              "\n",
              "  <svg xmlns=\"http://www.w3.org/2000/svg\" height=\"24px\" viewBox=\"0 -960 960 960\">\n",
              "    <path d=\"M120-120v-720h720v720H120Zm60-500h600v-160H180v160Zm220 220h160v-160H400v160Zm0 220h160v-160H400v160ZM180-400h160v-160H180v160Zm440 0h160v-160H620v160ZM180-180h160v-160H180v160Zm440 0h160v-160H620v160Z\"/>\n",
              "  </svg>\n",
              "    </button>\n",
              "\n",
              "  <style>\n",
              "    .colab-df-container {\n",
              "      display:flex;\n",
              "      gap: 12px;\n",
              "    }\n",
              "\n",
              "    .colab-df-convert {\n",
              "      background-color: #E8F0FE;\n",
              "      border: none;\n",
              "      border-radius: 50%;\n",
              "      cursor: pointer;\n",
              "      display: none;\n",
              "      fill: #1967D2;\n",
              "      height: 32px;\n",
              "      padding: 0 0 0 0;\n",
              "      width: 32px;\n",
              "    }\n",
              "\n",
              "    .colab-df-convert:hover {\n",
              "      background-color: #E2EBFA;\n",
              "      box-shadow: 0px 1px 2px rgba(60, 64, 67, 0.3), 0px 1px 3px 1px rgba(60, 64, 67, 0.15);\n",
              "      fill: #174EA6;\n",
              "    }\n",
              "\n",
              "    .colab-df-buttons div {\n",
              "      margin-bottom: 4px;\n",
              "    }\n",
              "\n",
              "    [theme=dark] .colab-df-convert {\n",
              "      background-color: #3B4455;\n",
              "      fill: #D2E3FC;\n",
              "    }\n",
              "\n",
              "    [theme=dark] .colab-df-convert:hover {\n",
              "      background-color: #434B5C;\n",
              "      box-shadow: 0px 1px 3px 1px rgba(0, 0, 0, 0.15);\n",
              "      filter: drop-shadow(0px 1px 2px rgba(0, 0, 0, 0.3));\n",
              "      fill: #FFFFFF;\n",
              "    }\n",
              "  </style>\n",
              "\n",
              "    <script>\n",
              "      const buttonEl =\n",
              "        document.querySelector('#df-2586c549-8a4b-41e3-91e8-e23273e46a41 button.colab-df-convert');\n",
              "      buttonEl.style.display =\n",
              "        google.colab.kernel.accessAllowed ? 'block' : 'none';\n",
              "\n",
              "      async function convertToInteractive(key) {\n",
              "        const element = document.querySelector('#df-2586c549-8a4b-41e3-91e8-e23273e46a41');\n",
              "        const dataTable =\n",
              "          await google.colab.kernel.invokeFunction('convertToInteractive',\n",
              "                                                    [key], {});\n",
              "        if (!dataTable) return;\n",
              "\n",
              "        const docLinkHtml = 'Like what you see? Visit the ' +\n",
              "          '<a target=\"_blank\" href=https://colab.research.google.com/notebooks/data_table.ipynb>data table notebook</a>'\n",
              "          + ' to learn more about interactive tables.';\n",
              "        element.innerHTML = '';\n",
              "        dataTable['output_type'] = 'display_data';\n",
              "        await google.colab.output.renderOutput(dataTable, element);\n",
              "        const docLink = document.createElement('div');\n",
              "        docLink.innerHTML = docLinkHtml;\n",
              "        element.appendChild(docLink);\n",
              "      }\n",
              "    </script>\n",
              "  </div>\n",
              "\n",
              "\n",
              "    <div id=\"df-00b7a7a3-fab6-4633-b133-7dc4c0d238a6\">\n",
              "      <button class=\"colab-df-quickchart\" onclick=\"quickchart('df-00b7a7a3-fab6-4633-b133-7dc4c0d238a6')\"\n",
              "                title=\"Suggest charts\"\n",
              "                style=\"display:none;\">\n",
              "\n",
              "<svg xmlns=\"http://www.w3.org/2000/svg\" height=\"24px\"viewBox=\"0 0 24 24\"\n",
              "     width=\"24px\">\n",
              "    <g>\n",
              "        <path d=\"M19 3H5c-1.1 0-2 .9-2 2v14c0 1.1.9 2 2 2h14c1.1 0 2-.9 2-2V5c0-1.1-.9-2-2-2zM9 17H7v-7h2v7zm4 0h-2V7h2v10zm4 0h-2v-4h2v4z\"/>\n",
              "    </g>\n",
              "</svg>\n",
              "      </button>\n",
              "\n",
              "<style>\n",
              "  .colab-df-quickchart {\n",
              "      --bg-color: #E8F0FE;\n",
              "      --fill-color: #1967D2;\n",
              "      --hover-bg-color: #E2EBFA;\n",
              "      --hover-fill-color: #174EA6;\n",
              "      --disabled-fill-color: #AAA;\n",
              "      --disabled-bg-color: #DDD;\n",
              "  }\n",
              "\n",
              "  [theme=dark] .colab-df-quickchart {\n",
              "      --bg-color: #3B4455;\n",
              "      --fill-color: #D2E3FC;\n",
              "      --hover-bg-color: #434B5C;\n",
              "      --hover-fill-color: #FFFFFF;\n",
              "      --disabled-bg-color: #3B4455;\n",
              "      --disabled-fill-color: #666;\n",
              "  }\n",
              "\n",
              "  .colab-df-quickchart {\n",
              "    background-color: var(--bg-color);\n",
              "    border: none;\n",
              "    border-radius: 50%;\n",
              "    cursor: pointer;\n",
              "    display: none;\n",
              "    fill: var(--fill-color);\n",
              "    height: 32px;\n",
              "    padding: 0;\n",
              "    width: 32px;\n",
              "  }\n",
              "\n",
              "  .colab-df-quickchart:hover {\n",
              "    background-color: var(--hover-bg-color);\n",
              "    box-shadow: 0 1px 2px rgba(60, 64, 67, 0.3), 0 1px 3px 1px rgba(60, 64, 67, 0.15);\n",
              "    fill: var(--button-hover-fill-color);\n",
              "  }\n",
              "\n",
              "  .colab-df-quickchart-complete:disabled,\n",
              "  .colab-df-quickchart-complete:disabled:hover {\n",
              "    background-color: var(--disabled-bg-color);\n",
              "    fill: var(--disabled-fill-color);\n",
              "    box-shadow: none;\n",
              "  }\n",
              "\n",
              "  .colab-df-spinner {\n",
              "    border: 2px solid var(--fill-color);\n",
              "    border-color: transparent;\n",
              "    border-bottom-color: var(--fill-color);\n",
              "    animation:\n",
              "      spin 1s steps(1) infinite;\n",
              "  }\n",
              "\n",
              "  @keyframes spin {\n",
              "    0% {\n",
              "      border-color: transparent;\n",
              "      border-bottom-color: var(--fill-color);\n",
              "      border-left-color: var(--fill-color);\n",
              "    }\n",
              "    20% {\n",
              "      border-color: transparent;\n",
              "      border-left-color: var(--fill-color);\n",
              "      border-top-color: var(--fill-color);\n",
              "    }\n",
              "    30% {\n",
              "      border-color: transparent;\n",
              "      border-left-color: var(--fill-color);\n",
              "      border-top-color: var(--fill-color);\n",
              "      border-right-color: var(--fill-color);\n",
              "    }\n",
              "    40% {\n",
              "      border-color: transparent;\n",
              "      border-right-color: var(--fill-color);\n",
              "      border-top-color: var(--fill-color);\n",
              "    }\n",
              "    60% {\n",
              "      border-color: transparent;\n",
              "      border-right-color: var(--fill-color);\n",
              "    }\n",
              "    80% {\n",
              "      border-color: transparent;\n",
              "      border-right-color: var(--fill-color);\n",
              "      border-bottom-color: var(--fill-color);\n",
              "    }\n",
              "    90% {\n",
              "      border-color: transparent;\n",
              "      border-bottom-color: var(--fill-color);\n",
              "    }\n",
              "  }\n",
              "</style>\n",
              "\n",
              "      <script>\n",
              "        async function quickchart(key) {\n",
              "          const quickchartButtonEl =\n",
              "            document.querySelector('#' + key + ' button');\n",
              "          quickchartButtonEl.disabled = true;  // To prevent multiple clicks.\n",
              "          quickchartButtonEl.classList.add('colab-df-spinner');\n",
              "          try {\n",
              "            const charts = await google.colab.kernel.invokeFunction(\n",
              "                'suggestCharts', [key], {});\n",
              "          } catch (error) {\n",
              "            console.error('Error during call to suggestCharts:', error);\n",
              "          }\n",
              "          quickchartButtonEl.classList.remove('colab-df-spinner');\n",
              "          quickchartButtonEl.classList.add('colab-df-quickchart-complete');\n",
              "        }\n",
              "        (() => {\n",
              "          let quickchartButtonEl =\n",
              "            document.querySelector('#df-00b7a7a3-fab6-4633-b133-7dc4c0d238a6 button');\n",
              "          quickchartButtonEl.style.display =\n",
              "            google.colab.kernel.accessAllowed ? 'block' : 'none';\n",
              "        })();\n",
              "      </script>\n",
              "    </div>\n",
              "\n",
              "    </div>\n",
              "  </div>\n"
            ],
            "application/vnd.google.colaboratory.intrinsic+json": {
              "type": "dataframe",
              "variable_name": "df",
              "summary": "{\n  \"name\": \"df\",\n  \"rows\": 413,\n  \"fields\": [\n    {\n      \"column\": \"Hotel_Address\",\n      \"properties\": {\n        \"dtype\": \"string\",\n        \"num_unique_values\": 301,\n        \"samples\": [\n          \"Via Via Albricci 2 4 Milan City Center 20122 Milan Italy\",\n          \"5 5 More London Place Tooley Street Southwark London SE1 2BY UK\",\n          \"Via Via Spallanzani 40 Central Station 20129 Milan Italy\"\n        ],\n        \"semantic_type\": \"\",\n        \"description\": \"\"\n      }\n    },\n    {\n      \"column\": \"Review_Date\",\n      \"properties\": {\n        \"dtype\": \"object\",\n        \"num_unique_values\": 302,\n        \"samples\": [\n          \"7/12/2016\",\n          \"5/3/2017\",\n          \"6/16/2016\"\n        ],\n        \"semantic_type\": \"\",\n        \"description\": \"\"\n      }\n    },\n    {\n      \"column\": \"Hotel_Name\",\n      \"properties\": {\n        \"dtype\": \"string\",\n        \"num_unique_values\": 301,\n        \"samples\": [\n          \"The Square Milano Duomo\",\n          \"Hilton London Tower Bridge\",\n          \"Starhotels Ritz\"\n        ],\n        \"semantic_type\": \"\",\n        \"description\": \"\"\n      }\n    },\n    {\n      \"column\": \"Reviewer_Nationality\",\n      \"properties\": {\n        \"dtype\": \"category\",\n        \"num_unique_values\": 67,\n        \"samples\": [\n          \" Ukraine \",\n          \" Singapore \",\n          \" Kuwait \"\n        ],\n        \"semantic_type\": \"\",\n        \"description\": \"\"\n      }\n    },\n    {\n      \"column\": \"Hotel_number_reviews\",\n      \"properties\": {\n        \"dtype\": \"number\",\n        \"std\": 2395,\n        \"min\": 100,\n        \"max\": 16670,\n        \"num_unique_values\": 297,\n        \"samples\": [\n          825,\n          516,\n          4802\n        ],\n        \"semantic_type\": \"\",\n        \"description\": \"\"\n      }\n    },\n    {\n      \"column\": \"Reviewer_number_reviews\",\n      \"properties\": {\n        \"dtype\": \"number\",\n        \"std\": 9,\n        \"min\": 1,\n        \"max\": 67,\n        \"num_unique_values\": 40,\n        \"samples\": [\n          27,\n          17,\n          14\n        ],\n        \"semantic_type\": \"\",\n        \"description\": \"\"\n      }\n    },\n    {\n      \"column\": \"Review_Score\",\n      \"properties\": {\n        \"dtype\": \"number\",\n        \"std\": 2.1090433599878273,\n        \"min\": 2.5,\n        \"max\": 10.0,\n        \"num_unique_values\": 22,\n        \"samples\": [\n          7.1,\n          5.4,\n          9.6\n        ],\n        \"semantic_type\": \"\",\n        \"description\": \"\"\n      }\n    },\n    {\n      \"column\": \"Review\",\n      \"properties\": {\n        \"dtype\": \"string\",\n        \"num_unique_values\": 410,\n        \"samples\": [\n          \" George on reception was a graduate student and by the time we got shown to our room we knew his whole life story The sheets were dirty We waited at least 20 minutes to get them changed and it was by a guy who wasn t from housekeeping The hot towel rail was not working We got woken up by a message from reception at 7am  Spending quality time with my husband \",\n          \" Water in the fridge Gluten free breakfast available\",\n          \" No complimentary water  Staff very friendly\"\n        ],\n        \"semantic_type\": \"\",\n        \"description\": \"\"\n      }\n    },\n    {\n      \"column\": \"Review_Type\",\n      \"properties\": {\n        \"dtype\": \"category\",\n        \"num_unique_values\": 2,\n        \"samples\": [\n          \"Bad_review\",\n          \"Good_review\"\n        ],\n        \"semantic_type\": \"\",\n        \"description\": \"\"\n      }\n    }\n  ]\n}"
            }
          },
          "metadata": {},
          "execution_count": 2
        }
      ],
      "source": [
        "path = \"https://frasca.di.unimi.it/MLDNN/input_data.csv\"\n",
        "\n",
        "df = pd.read_csv(path)\n",
        "\n",
        "# decrease the size of dataset for fast training\n",
        "df = df.sample(frac=0.03, random_state=42).reset_index(drop=True)\n",
        "df = df.drop([\"Average_Score\"], axis=1)\n",
        "\n",
        "print(\"Dataset shape:\", df.shape)\n",
        "df.head(3)"
      ]
    },
    {
      "cell_type": "code",
      "execution_count": null,
      "metadata": {
        "colab": {
          "base_uri": "https://localhost:8080/"
        },
        "id": "sJpWNPqBJu59",
        "outputId": "64dd5330-3768-4dad-d90b-5bf86a89381b"
      },
      "outputs": [
        {
          "output_type": "stream",
          "name": "stdout",
          "text": [
            "Missing values per column:\n",
            "\n",
            "Hotel_Address              0\n",
            "Review_Date                0\n",
            "Hotel_Name                 0\n",
            "Reviewer_Nationality       0\n",
            "Hotel_number_reviews       0\n",
            "Reviewer_number_reviews    0\n",
            "Review_Score               0\n",
            "Review                     0\n",
            "Review_Type                0\n",
            "dtype: int64\n"
          ]
        }
      ],
      "source": [
        "# Missing values\n",
        "print(\"Missing values per column:\\n\")\n",
        "print(df.isnull().sum())"
      ]
    },
    {
      "cell_type": "code",
      "execution_count": null,
      "metadata": {
        "colab": {
          "base_uri": "https://localhost:8080/",
          "height": 496
        },
        "id": "Fx5mTPe4Ju59",
        "outputId": "d893d07f-a266-4810-de88-48c1b19a1b09"
      },
      "outputs": [
        {
          "output_type": "display_data",
          "data": {
            "text/plain": [
              "<Figure size 1000x500 with 1 Axes>"
            ],
            "image/png": "[encoded data removed]"
          },
          "metadata": {}
        }
      ],
      "source": [
        "# Distribution of Review Score (target for regression)\n",
        "plt.figure(figsize=(10, 5))\n",
        "sns.histplot(df['Review_Score'], bins=20, kde=True, color=\"purple\")\n",
        "plt.title(\"Distribution of Review Score\")\n",
        "plt.xlabel(\"Score\")\n",
        "plt.ylabel(\"Frequency\")\n",
        "plt.show()"
      ]
    },
    {
      "cell_type": "code",
      "execution_count": null,
      "metadata": {
        "colab": {
          "base_uri": "https://localhost:8080/",
          "height": 335
        },
        "id": "T9JeJKtYJu5-",
        "outputId": "d7047cb0-0050-4c22-d382-7578f5022a39"
      },
      "outputs": [
        {
          "output_type": "execute_result",
          "data": {
            "text/plain": [
              "count    413.000000\n",
              "mean       7.254964\n",
              "std        2.109043\n",
              "min        2.500000\n",
              "25%        5.800000\n",
              "50%        7.100000\n",
              "75%        9.200000\n",
              "max       10.000000\n",
              "Name: Review_Score, dtype: float64"
            ],
            "text/html": [
              "<div>\n",
              "<style scoped>\n",
              "    .dataframe tbody tr th:only-of-type {\n",
              "        vertical-align: middle;\n",
              "    }\n",
              "\n",
              "    .dataframe tbody tr th {\n",
              "        vertical-align: top;\n",
              "    }\n",
              "\n",
              "    .dataframe thead th {\n",
              "        text-align: right;\n",
              "    }\n",
              "</style>\n",
              "<table border=\"1\" class=\"dataframe\">\n",
              "  <thead>\n",
              "    <tr style=\"text-align: right;\">\n",
              "      <th></th>\n",
              "      <th>Review_Score</th>\n",
              "    </tr>\n",
              "  </thead>\n",
              "  <tbody>\n",
              "    <tr>\n",
              "      <th>count</th>\n",
              "      <td>413.000000</td>\n",
              "    </tr>\n",
              "    <tr>\n",
              "      <th>mean</th>\n",
              "      <td>7.254964</td>\n",
              "    </tr>\n",
              "    <tr>\n",
              "      <th>std</th>\n",
              "      <td>2.109043</td>\n",
              "    </tr>\n",
              "    <tr>\n",
              "      <th>min</th>\n",
              "      <td>2.500000</td>\n",
              "    </tr>\n",
              "    <tr>\n",
              "      <th>25%</th>\n",
              "      <td>5.800000</td>\n",
              "    </tr>\n",
              "    <tr>\n",
              "      <th>50%</th>\n",
              "      <td>7.100000</td>\n",
              "    </tr>\n",
              "    <tr>\n",
              "      <th>75%</th>\n",
              "      <td>9.200000</td>\n",
              "    </tr>\n",
              "    <tr>\n",
              "      <th>max</th>\n",
              "      <td>10.000000</td>\n",
              "    </tr>\n",
              "  </tbody>\n",
              "</table>\n",
              "</div><br><label><b>dtype:</b> float64</label>"
            ]
          },
          "metadata": {},
          "execution_count": 5
        }
      ],
      "source": [
        "df['Review_Score'].describe()"
      ]
    },
    {
      "cell_type": "code",
      "execution_count": null,
      "metadata": {
        "colab": {
          "base_uri": "https://localhost:8080/",
          "height": 496
        },
        "id": "h49_9ZCEJu5-",
        "outputId": "6d2ab750-f92d-47ec-8d92-1418957bdf05"
      },
      "outputs": [
        {
          "output_type": "display_data",
          "data": {
            "text/plain": [
              "<Figure size 1000x500 with 1 Axes>"
            ],
            "image/png": "[encoded data removed]"
          },
          "metadata": {}
        }
      ],
      "source": [
        "df['review_length'] = df['Review'].apply(lambda x: len(str(x).split()))\n",
        "plt.figure(figsize=(10, 5))\n",
        "sns.histplot(df['review_length'], bins=30, color='purple')\n",
        "plt.title(\"Distribution of Review Length (in words)\")\n",
        "plt.xlabel(\"Number of words\")\n",
        "plt.ylabel(\"Frequency\")\n",
        "plt.show()"
      ]
    },
    {
      "cell_type": "markdown",
      "metadata": {
        "id": "oSl_ffpWJu5-"
      },
      "source": [
        "## 2. Data Preprocessing\n",
        "\n",
        "To effectively prepare the dataset for model training, I modularized the preprocessing steps into separate functions for numerical, categorical, and text features. This modular design improves code readability, reusability, and maintainability. All steps are later integrated into a single function for streamlined preprocessing."
      ]
    },
    {
      "cell_type": "markdown",
      "metadata": {
        "id": "1y7sAs62Ju5-"
      },
      "source": [
        "### 2.1 Dropping Irrelevant or Redundant Columns\n",
        "\n",
        "**CHANGE** I decided to drop the `Hotel Address` and `Review Date` columns because their data was very sparse and could add noise to the final model.\n",
        "\n",
        "Before preprocessing, we remove some columns that are either not useful for the regression task or could introduce noise or data leakage.\n",
        "\n",
        "- `Hotel Address`: too detailed and inconsistent; likely high cardinality with little predictive power.\n",
        "- `Review Date`: time-based leakage risk and difficult to interpret without seasonality context.\n",
        "- `Review Type`: this is used for classification; we are solving only the regression task."
      ]
    },
    {
      "cell_type": "code",
      "execution_count": null,
      "metadata": {
        "id": "Ok7__XbhJu5-"
      },
      "outputs": [],
      "source": [
        "df = df.drop(columns=[\n",
        "    'Hotel_Address',\n",
        "    'Review_Date',\n",
        "    'Review_Type'\n",
        "])"
      ]
    },
    {
      "cell_type": "code",
      "execution_count": null,
      "metadata": {
        "id": "9wGMS1c2Ju5-"
      },
      "outputs": [],
      "source": [
        "num_cols = ['Hotel_number_reviews', 'Reviewer_number_reviews']\n",
        "cat_cols = ['Hotel_Name', 'Reviewer_Nationality']"
      ]
    },
    {
      "cell_type": "markdown",
      "metadata": {
        "id": "KPlSRCyDJu5-"
      },
      "source": [
        "### 2.1 Numerical Features Preprocessing\n",
        "\n",
        "**CHANGE** One detail I forgot to mention in the proposed solution is that the numerical features should be normalized prior to concatenation with the other inputs, and only then passed through the final head network (FC → ReLU → FC).\n",
        "\n",
        "In this part, we normalize the numerical features using `StandardScaler`. This transformation is important to make sure the model treats each numeric input on a comparable scale."
      ]
    },
    {
      "cell_type": "code",
      "execution_count": null,
      "metadata": {
        "id": "c2dT5ch2Ju5-"
      },
      "outputs": [],
      "source": [
        "from sklearn.preprocessing import StandardScaler\n",
        "\n",
        "def numerical_preprocessing(df, columns):\n",
        "    \"\"\"\n",
        "    Normalize numeric features using StandardScaler.\n",
        "    \"\"\"\n",
        "    scaler = StandardScaler()\n",
        "    scaled = scaler.fit_transform(df[columns])\n",
        "    return scaled, scaler"
      ]
    },
    {
      "cell_type": "markdown",
      "metadata": {
        "id": "XFWM4yYZJu5-"
      },
      "source": [
        "### 2.2 Categorical Features Preprocessing\n",
        "\n",
        "The function `categorical_preprocessing` converts each categorical column into integer indices using `LabelEncoder`. These integer representations can later be passed through embedding layers in the model."
      ]
    },
    {
      "cell_type": "code",
      "execution_count": null,
      "metadata": {
        "id": "jO-Ipy-qJu5-"
      },
      "outputs": [],
      "source": [
        "from sklearn.preprocessing import LabelEncoder\n",
        "\n",
        "def categorical_preprocessing(df, columns):\n",
        "    \"\"\"\n",
        "    Encode categorical features into integer indices.\n",
        "    \"\"\"\n",
        "    encoded = {}\n",
        "    encoders = {}\n",
        "    for col in columns:\n",
        "        le = LabelEncoder()\n",
        "        df[col] = le.fit_transform(df[col].astype(str))\n",
        "        encoded[col] = df[col].values\n",
        "        encoders[col] = le\n",
        "    return encoded, encoders"
      ]
    },
    {
      "cell_type": "markdown",
      "metadata": {
        "id": "ISjaTIXcJu5_"
      },
      "source": [
        "### 2.3 Review text cleaning\n",
        "\n",
        "**CHANGE** In the proposed solution I forgot to mention that before tokenizing raw text, we must first clean the text data. This step ensures that unnecessary noise—such as punctuation, extra whitespace, and uninformative stopwords—is removed. Cleaning the text improves the quality of the tokenization process, helps reduce vocabulary size, and allows the model to focus on meaningful patterns in the data.\n",
        "\n",
        "\n",
        "To improve the quality of textual input for the model, a custom `clean_text` function is used. It performs the following steps:\n",
        "\n",
        "- **Lowercasing**: Converts all characters to lowercase for uniformity.\n",
        "- **Punctuation removal**: Removes punctuation marks to reduce noise.\n",
        "- **Whitespace normalization**: Replaces multiple whitespace characters with a single space.\n",
        "- **Stopword removal**: Removes common English stopwords while preserving important negation words (e.g., \"not\", \"no\", \"never\").\n",
        "- **Lemmatization**: Reduces words to their base forms using WordNet lemmatizer."
      ]
    },
    {
      "cell_type": "code",
      "execution_count": null,
      "metadata": {
        "id": "O-s_5BvPJu5_"
      },
      "outputs": [],
      "source": [
        "import re\n",
        "import string\n",
        "import nltk\n",
        "from nltk.corpus import stopwords\n",
        "from nltk.stem import WordNetLemmatizer\n",
        "\n",
        "nltk.download('stopwords', quiet=True)\n",
        "nltk.download('wordnet', quiet=True)\n",
        "\n",
        "stop_words = set(stopwords.words('english'))\n",
        "words_to_keep = {\n",
        "    'not', 'no', 'nor', 'don', 'ain', 'aren', 'couldn', 'didn', 'doesn',\n",
        "    'hadn', 'hasn', 'haven', 'isn', 'ma', 'mightn', 'mustn', 'needn',\n",
        "    'shan', 'shouldn', 'wasn', 'weren', 'won', 'wouldn', 'never', 'aren'\n",
        "}\n",
        "stop_words = stop_words - words_to_keep\n",
        "\n",
        "lemmatizer = WordNetLemmatizer()"
      ]
    },
    {
      "cell_type": "code",
      "execution_count": null,
      "metadata": {
        "id": "FgzliA9-Ju5_"
      },
      "outputs": [],
      "source": [
        "def clean_text(text, remove_stopwords=True, lemmatize=True):\n",
        "    text = text.lower()\n",
        "    text = re.sub(r'<.*?>', '', text)\n",
        "    text = re.sub(f\"[{re.escape(string.punctuation)}]\", \"\", text)\n",
        "    text = re.sub(r\"\\s+\", \" \", text).strip()\n",
        "\n",
        "    words = text.split()\n",
        "\n",
        "    if remove_stopwords:\n",
        "        tokens = [word for word in words if word not in stop_words]\n",
        "    if lemmatize:\n",
        "        tokens = [lemmatizer.lemmatize(word) for word in tokens]\n",
        "\n",
        "    return \" \".join(tokens)"
      ]
    },
    {
      "cell_type": "markdown",
      "metadata": {
        "id": "PADBhbKnJu5_"
      },
      "source": [
        "### 2.4 Unified Preprocessing Function\n",
        "\n",
        "All preprocessing steps are combined in the `preprocess_data` function:\n",
        "\n",
        "- **Numerical features** are scaled using `StandardScaler`.\n",
        "- **Categorical features** are encoded with `LabelEncoder`.\n",
        "- **Text reviews** are cleaned, tokenized, and padded.\n",
        "- **Target (`Review_Score`)** is normalized. **CHAGE** I decided to normalize the target value because it helps stabilize training and speeds up convergence\n",
        "\n",
        "The function returns a dictionary with all processed inputs and transformers for future use. This approach ensures a clean and consistent data pipeline for model training.\n"
      ]
    },
    {
      "cell_type": "code",
      "execution_count": null,
      "metadata": {
        "id": "EX1vTx9hJu5_"
      },
      "outputs": [],
      "source": [
        "from tensorflow.keras.preprocessing.text import Tokenizer\n",
        "from tensorflow.keras.preprocessing.sequence import pad_sequences\n",
        "\n",
        "def preprocess_data(df, num_cols, cat_cols, max_words=20000, max_len=400, tokenizer=None):\n",
        "    df = df.copy()\n",
        "\n",
        "    X_num, scaler = numerical_preprocessing(df, num_cols)     # Numerical preprocessing\n",
        "    X_cat, encoders = categorical_preprocessing(df, cat_cols) # Categorical preprocessing\n",
        "\n",
        "    # Text preprocessing\n",
        "    df['Review'] = df['Review'].astype(str).fillna(\"\").apply(clean_text)\n",
        "    if tokenizer is None:\n",
        "        tokenizer = Tokenizer(num_words=max_words, oov_token=\"<OOV>\")\n",
        "        tokenizer.fit_on_texts(df['Review'])\n",
        "\n",
        "    sequences = tokenizer.texts_to_sequences(df['Review'])\n",
        "    X_text = pad_sequences(sequences, maxlen=max_len, padding='post', truncating='post')\n",
        "    y = df['Review_Score'].values\n",
        "\n",
        "    return {\n",
        "        'numeric': X_num,\n",
        "        'categorical': X_cat,\n",
        "        'text': X_text,\n",
        "        'score': y,\n",
        "        'tokenizer': tokenizer,\n",
        "        'scaler': scaler,\n",
        "        'encoders': encoders\n",
        "    }"
      ]
    },
    {
      "cell_type": "code",
      "execution_count": null,
      "metadata": {
        "id": "WcaQSXedJu5_"
      },
      "outputs": [],
      "source": [
        "data = preprocess_data(df, num_cols, cat_cols)"
      ]
    },
    {
      "cell_type": "markdown",
      "metadata": {
        "id": "s0Wo2dVEJu5_"
      },
      "source": [
        "### 2.4 GloVe Embeddings Preparation\n",
        "\n",
        "To incorporate semantic meaning of words, I used pre-trained **GloVe** embeddings. This part includes:\n",
        "\n",
        "- **`load_glove_embeddings`**: Loads GloVe vectors from a `.txt` file and stores them in a dictionary mapping words to their embedding vectors.\n",
        "- **`build_embedding_matrix`**: Constructs an embedding matrix where each row corresponds to a word in the tokenizer's vocabulary. Words not found in GloVe are assigned a zero vector.\n",
        "\n",
        "This matrix is later used to initialize the embedding layer in the model."
      ]
    },
    {
      "cell_type": "code",
      "execution_count": null,
      "metadata": {
        "id": "gGWrH-8dJu5_"
      },
      "outputs": [],
      "source": [
        "def load_glove_embeddings(glove_file_path, embedding_dim=300):\n",
        "    embeddings_index = {}\n",
        "    with open(glove_file_path, encoding='utf8') as f:\n",
        "        for line in f:\n",
        "            values = line.split()\n",
        "            word = values[0]\n",
        "            try:\n",
        "                coefs = np.asarray(values[1:], dtype='float32')\n",
        "                embeddings_index[word] = coefs\n",
        "            except ValueError:\n",
        "                continue\n",
        "    print(f\"Loaded {len(embeddings_index):,} word vectors from GloVe\")\n",
        "    return embeddings_index"
      ]
    },
    {
      "cell_type": "code",
      "execution_count": null,
      "metadata": {
        "id": "hFqIyrSKJu5_"
      },
      "outputs": [],
      "source": [
        "def build_embedding_matrix(tokenizer, embeddings_index, embedding_dim=300, max_words=20000):\n",
        "    word_index = tokenizer.word_index\n",
        "    num_words = min(max_words, len(word_index) + 1)\n",
        "    embedding_matrix = np.zeros((num_words, embedding_dim))\n",
        "\n",
        "    for word, i in word_index.items():\n",
        "        if i >= num_words:\n",
        "            continue\n",
        "        embedding_vector = embeddings_index.get(word)\n",
        "        if embedding_vector is not None:\n",
        "            embedding_matrix[i] = embedding_vector\n",
        "\n",
        "    print(f\"Embedding matrix shape: {embedding_matrix.shape}\")\n",
        "    return embedding_matrix"
      ]
    },
    {
      "cell_type": "code",
      "execution_count": null,
      "metadata": {
        "colab": {
          "base_uri": "https://localhost:8080/"
        },
        "id": "cGI8RkrEKXG2",
        "outputId": "890087ae-a4b2-424a-c567-a07d6cdd2f55"
      },
      "outputs": [
        {
          "output_type": "stream",
          "name": "stdout",
          "text": [
            "--2025-07-03 16:31:03--  http://nlp.stanford.edu/data/glove.6B.zip\n",
            "Resolving nlp.stanford.edu (nlp.stanford.edu)... 171.64.67.140\n",
            "Connecting to nlp.stanford.edu (nlp.stanford.edu)|171.64.67.140|:80... connected.\n",
            "HTTP request sent, awaiting response... 302 Found\n",
            "Location: https://nlp.stanford.edu/data/glove.6B.zip [following]\n",
            "--2025-07-03 16:31:04--  https://nlp.stanford.edu/data/glove.6B.zip\n",
            "Connecting to nlp.stanford.edu (nlp.stanford.edu)|171.64.67.140|:443... connected.\n",
            "HTTP request sent, awaiting response... 301 Moved Permanently\n",
            "Location: https://downloads.cs.stanford.edu/nlp/data/glove.6B.zip [following]\n",
            "--2025-07-03 16:31:04--  https://downloads.cs.stanford.edu/nlp/data/glove.6B.zip\n",
            "Resolving downloads.cs.stanford.edu (downloads.cs.stanford.edu)... 171.64.64.22\n",
            "Connecting to downloads.cs.stanford.edu (downloads.cs.stanford.edu)|171.64.64.22|:443... connected.\n",
            "HTTP request sent, awaiting response... 200 OK\n",
            "Length: 862182613 (822M) [application/zip]\n",
            "Saving to: ‘glove.6B.zip’\n",
            "\n",
            "glove.6B.zip        100%[===================>] 822.24M  5.01MB/s    in 2m 39s  \n",
            "\n",
            "2025-07-03 16:33:44 (5.18 MB/s) - ‘glove.6B.zip’ saved [862182613/862182613]\n",
            "\n"
          ]
        }
      ],
      "source": [
        "import os\n",
        "\n",
        "if not os.path.exists(\"glove.6B.zip\"):\n",
        "    !wget http://nlp.stanford.edu/data/glove.6B.zip\n",
        "\n",
        "if not os.path.exists(\"glove.6B.300d.txt\"):\n",
        "    !unzip -q glove.6B.zip"
      ]
    },
    {
      "cell_type": "code",
      "execution_count": null,
      "metadata": {
        "colab": {
          "base_uri": "https://localhost:8080/"
        },
        "id": "9_w3NooxJu5_",
        "outputId": "18b5c5cf-3277-45b0-bfdb-3635dee53d4a"
      },
      "outputs": [
        {
          "output_type": "stream",
          "name": "stdout",
          "text": [
            "Loaded 400,000 word vectors from GloVe\n"
          ]
        }
      ],
      "source": [
        "glove_path = 'glove.6B.300d.txt'\n",
        "# glove_path = '/kaggle/input/glove-embeddings/glove.6B.300d.txt'\n",
        "embeddings_index = load_glove_embeddings(glove_path)"
      ]
    },
    {
      "cell_type": "code",
      "execution_count": null,
      "metadata": {
        "colab": {
          "base_uri": "https://localhost:8080/"
        },
        "id": "A89mY5lwJu6A",
        "outputId": "7d91d0c4-c95d-46f2-93c5-8943e60409cc"
      },
      "outputs": [
        {
          "output_type": "stream",
          "name": "stdout",
          "text": [
            "Embedding matrix shape: (1853, 300)\n"
          ]
        }
      ],
      "source": [
        "tokenizer = data['tokenizer']\n",
        "embedding_matrix = build_embedding_matrix(tokenizer, embeddings_index)"
      ]
    },
    {
      "cell_type": "markdown",
      "metadata": {
        "id": "58Hi_d1LJu6A"
      },
      "source": [
        "## 3. Model Architecture: BiLSTM with Attention\n",
        "\n",
        "In this section, we build the deep learning model that will predict the `Review Score` based on multiple input types:\n",
        "\n",
        "- **Textual input** (`Review`): processed with a BiLSTM layer using pre-trained **GloVe 300d** embeddings, followed by an attention mechanism to focus on the most relevant words.\n",
        "- **Categorical features**: embedded via trainable embedding layers.\n",
        "- **Numerical features** : normalized and fed as-is into dense layers.\n",
        "\n",
        "All inputs are concatenated into a shared representation, followed by dense layers, and finally a regression output (a single float value in range `[0, 10]`"
      ]
    },
    {
      "cell_type": "code",
      "execution_count": null,
      "metadata": {
        "id": "3LuWRMdiJu6A"
      },
      "outputs": [],
      "source": [
        "import tensorflow as tf\n",
        "from tensorflow.keras.layers import Layer\n",
        "\n",
        "class Attention(Layer):\n",
        "    def __init__(self):\n",
        "        super(Attention, self).__init__()\n",
        "\n",
        "    def call(self, inputs):\n",
        "        # inputs: (batch_size, time_steps, hidden_size)\n",
        "        score = tf.nn.tanh(inputs)\n",
        "        weights = tf.nn.softmax(score, axis=1)\n",
        "        context = weights * inputs\n",
        "        context = tf.reduce_sum(context, axis=1)\n",
        "        return context"
      ]
    },
    {
      "cell_type": "code",
      "execution_count": null,
      "metadata": {
        "id": "Dg-FlwX1Ju6A"
      },
      "outputs": [],
      "source": [
        "from tensorflow.keras.models import Model\n",
        "from tensorflow.keras.layers import Embedding, Dense, LSTM, Dropout, Bidirectional\n",
        "from tensorflow.keras.layers import Flatten, Concatenate\n",
        "\n",
        "\n",
        "class BiLSTMWithAttentionModel(tf.keras.Model):\n",
        "    def __init__(self, embedding_matrix, cat_info, num_numerical_features, hidden_size=32, dropout=0.4):\n",
        "        super().__init__()\n",
        "        vocab_size, embedding_dim = embedding_matrix.shape\n",
        "\n",
        "        self.embedding = Embedding(input_dim=vocab_size, output_dim=embedding_dim,\n",
        "                                   weights=[embedding_matrix], trainable=False)\n",
        "        self.bilstm = Bidirectional(LSTM(hidden_size, return_sequences=True))\n",
        "        self.attn = Attention()\n",
        "        self.flatten = Flatten()\n",
        "\n",
        "        # custom categorical embeddings\n",
        "        self.cat_embeddings = {\n",
        "            name: Embedding(input_dim=n_unique, output_dim=8)\n",
        "            for name, n_unique in cat_info.items()\n",
        "        }\n",
        "\n",
        "        self.head = tf.keras.Sequential([\n",
        "            Dense(hidden_size, activation='relu'),\n",
        "            Dropout(dropout),\n",
        "            Dense(1, activation='linear')\n",
        "        ])\n",
        "\n",
        "    def call(self, inputs):\n",
        "        x_text = self.embedding(inputs['text'])\n",
        "        x_text = self.bilstm(x_text)\n",
        "        x_text = self.attn(x_text)\n",
        "        x_cat = [self.flatten(self.cat_embeddings[name](inputs[name])) for name in self.cat_embeddings]\n",
        "\n",
        "        x_num = inputs['numeric']\n",
        "\n",
        "        x = Concatenate()([x_text, x_num] + x_cat)\n",
        "        return self.head(x)"
      ]
    },
    {
      "cell_type": "markdown",
      "metadata": {
        "id": "1xj02BBBJu6A"
      },
      "source": [
        "### 3.1 Train/Test Split and Input Dictionary Preparation\n",
        "\n",
        "To prepare data for model training and validation, I performed the following steps:\n",
        "\n",
        "- **Combined features** (`text`, `numeric`, and selected categorical columns) and target `score` into a list.\n",
        "- **Split** the dataset into training and validation sets using `train_test_split` with 10% of data reserved for validation.\n",
        "- **Reassembled the split arrays** into dictionaries (`X_train` and `X_val`) expected by the custom Keras model, preserving the original feature names.\n",
        "\n",
        "This structure ensures that all inputs are passed correctly to the model during training and evaluation."
      ]
    },
    {
      "cell_type": "code",
      "execution_count": null,
      "metadata": {
        "id": "3fWCQoKyJu6A"
      },
      "outputs": [],
      "source": [
        "from sklearn.model_selection import train_test_split\n",
        "\n",
        "def split_data(X_values, y, random_state=42):\n",
        "    # train (80%) и temp (20%)\n",
        "    X_train_parts, X_temp_parts, y_train, y_temp = train_test_split(\n",
        "        list(zip(*X_values)), y, test_size=0.2, random_state=random_state\n",
        "    )\n",
        "\n",
        "    # val (10%) и test (10%)\n",
        "    X_val_parts, X_test_parts, y_val, y_test = train_test_split(\n",
        "        X_temp_parts, y_temp, test_size=0.5, random_state=random_state\n",
        "    )\n",
        "\n",
        "    X_train = list(zip(*X_train_parts))\n",
        "    X_val = list(zip(*X_val_parts))\n",
        "    X_test = list(zip(*X_test_parts))\n",
        "\n",
        "    X_train_dict = {\n",
        "        'text': np.array(X_train[0]),\n",
        "        'numeric': np.array(X_train[1]),\n",
        "        'Hotel_Name': np.array(X_train[2]),\n",
        "        'Reviewer_Nationality': np.array(X_train[3]),\n",
        "    }\n",
        "    X_val_dict = {\n",
        "        'text': np.array(X_val[0]),\n",
        "        'numeric': np.array(X_val[1]),\n",
        "        'Hotel_Name': np.array(X_val[2]),\n",
        "        'Reviewer_Nationality': np.array(X_val[3]),\n",
        "    }\n",
        "    X_test_dict = {\n",
        "        'text': np.array(X_test[0]),\n",
        "        'numeric': np.array(X_test[1]),\n",
        "        'Hotel_Name': np.array(X_test[2]),\n",
        "        'Reviewer_Nationality': np.array(X_test[3]),\n",
        "    }\n",
        "\n",
        "    return X_train_dict, X_val_dict, X_test_dict, y_train, y_val, y_test"
      ]
    },
    {
      "cell_type": "code",
      "execution_count": null,
      "metadata": {
        "id": "QeZHo-XjJu6A"
      },
      "outputs": [],
      "source": [
        "X_values = [\n",
        "    data['text'],\n",
        "    data['numeric'],\n",
        "    data['categorical']['Hotel_Name'],\n",
        "    data['categorical']['Reviewer_Nationality']\n",
        "]\n",
        "y = data['score']\n",
        "\n",
        "X_train, X_val, X_test, y_train, y_val, y_test = split_data(X_values, y)\n"
      ]
    },
    {
      "cell_type": "code",
      "execution_count": null,
      "metadata": {
        "id": "yb-ZZtgCJu6A"
      },
      "outputs": [],
      "source": [
        "cat_info = {\n",
        "    'Hotel_Name': data['categorical']['Hotel_Name'].max() + 1,\n",
        "    'Reviewer_Nationality': data['categorical']['Reviewer_Nationality'].max() + 1\n",
        "}"
      ]
    },
    {
      "cell_type": "markdown",
      "metadata": {
        "id": "hED2e5A3Ju6B"
      },
      "source": [
        "## 3.2 Model Training\n",
        "\n",
        "This section covers the initialization, compilation, and training of the model.\n",
        "\n",
        "- **Model Initialization**  \n",
        "  The `BiLSTMWithAttentionModel` is created using:\n",
        "  - A pretrained GloVe embedding matrix for text input\n",
        "  - Categorical feature information (`cat_info`)\n",
        "  - The number of numerical features from the dataset\n",
        "  - A hidden size of 64 and dropout of 0.4 for regularization\n",
        "\n",
        "- **Early Stopping**  \n",
        "  Early stopping is used to prevent overfitting by monitoring the validation loss.  \n",
        "  If the validation loss does not improve for 3 epochs, training stops and the best model weights are restored.\n",
        "\n",
        "- **Model Compilation**  \n",
        "  The model is compiled using the Adam optimizer (`learning_rate=1e-3`), with:\n",
        "  - Mean Squared Error (MSE) as the loss function\n",
        "  - MSE and R² score as evaluation metrics\n",
        "\n",
        "- **Model Training**  \n",
        "  The model is trained on the training set for up to 25 epochs with a batch size of 32.  \n",
        "  Validation data is used to monitor generalization performance during training.  \n",
        "  The `early_stop` callback is passed to stop training early if needed.\n"
      ]
    },
    {
      "cell_type": "code",
      "execution_count": null,
      "metadata": {
        "id": "WNyWuFFpJu6B"
      },
      "outputs": [],
      "source": [
        "model = BiLSTMWithAttentionModel(\n",
        "    embedding_matrix=embedding_matrix,\n",
        "    cat_info=cat_info,\n",
        "    num_numerical_features=data['numeric'].shape[1],\n",
        "    hidden_size=64,\n",
        "    dropout=0.4\n",
        ")"
      ]
    },
    {
      "cell_type": "code",
      "execution_count": null,
      "metadata": {
        "id": "SoM26O9EJu6B"
      },
      "outputs": [],
      "source": [
        "from tensorflow.keras.callbacks import EarlyStopping\n",
        "\n",
        "early_stop = EarlyStopping(\n",
        "    monitor='val_loss',\n",
        "    patience=3,\n",
        "    restore_best_weights=True\n",
        ")"
      ]
    },
    {
      "cell_type": "code",
      "execution_count": null,
      "metadata": {
        "id": "6oIQIEOUJu6B"
      },
      "outputs": [],
      "source": [
        "from tensorflow.keras.optimizers import Adam\n",
        "from tensorflow.keras.metrics import R2Score\n",
        "from tensorflow.keras.metrics import MeanSquaredError\n",
        "\n",
        "adam = Adam(learning_rate=3e-4)\n",
        "score_mse = MeanSquaredError(name='mse')\n",
        "score_r2_score = R2Score(name='r2_score')\n",
        "\n",
        "model.compile(\n",
        "    optimizer=adam,\n",
        "    loss='mse',\n",
        "    metrics=[score_r2_score]\n",
        ")"
      ]
    },
    {
      "cell_type": "code",
      "execution_count": null,
      "metadata": {
        "id": "1ZZHw2QUJu6B",
        "colab": {
          "base_uri": "https://localhost:8080/"
        },
        "outputId": "b1af1062-0151-4be3-ac57-2b5686552570"
      },
      "outputs": [
        {
          "output_type": "stream",
          "name": "stdout",
          "text": [
            "Epoch 1/25\n",
            "\u001b[1m11/11\u001b[0m \u001b[32m━━━━━━━━━━━━━━━━━━━━\u001b[0m\u001b[37m\u001b[0m \u001b[1m10s\u001b[0m 142ms/step - loss: 58.4260 - r2_score: -12.0094 - val_loss: 51.4837 - val_r2_score: -9.3610\n",
            "Epoch 2/25\n",
            "\u001b[1m11/11\u001b[0m \u001b[32m━━━━━━━━━━━━━━━━━━━━\u001b[0m\u001b[37m\u001b[0m \u001b[1m0s\u001b[0m 39ms/step - loss: 56.4826 - r2_score: -12.1963 - val_loss: 49.1367 - val_r2_score: -8.8887\n",
            "Epoch 3/25\n",
            "\u001b[1m11/11\u001b[0m \u001b[32m━━━━━━━━━━━━━━━━━━━━\u001b[0m\u001b[37m\u001b[0m \u001b[1m1s\u001b[0m 37ms/step - loss: 53.3223 - r2_score: -11.5454 - val_loss: 41.9403 - val_r2_score: -7.4404\n",
            "Epoch 4/25\n",
            "\u001b[1m11/11\u001b[0m \u001b[32m━━━━━━━━━━━━━━━━━━━━\u001b[0m\u001b[37m\u001b[0m \u001b[1m1s\u001b[0m 39ms/step - loss: 37.0266 - r2_score: -6.4727 - val_loss: 5.9888 - val_r2_score: -0.2052\n",
            "Epoch 5/25\n",
            "\u001b[1m11/11\u001b[0m \u001b[32m━━━━━━━━━━━━━━━━━━━━\u001b[0m\u001b[37m\u001b[0m \u001b[1m1s\u001b[0m 37ms/step - loss: 5.6239 - r2_score: -0.2147 - val_loss: 8.2676 - val_r2_score: -0.6638\n",
            "Epoch 6/25\n",
            "\u001b[1m11/11\u001b[0m \u001b[32m━━━━━━━━━━━━━━━━━━━━\u001b[0m\u001b[37m\u001b[0m \u001b[1m0s\u001b[0m 37ms/step - loss: 5.8070 - r2_score: -0.2783 - val_loss: 5.4101 - val_r2_score: -0.0888\n",
            "Epoch 7/25\n",
            "\u001b[1m11/11\u001b[0m \u001b[32m━━━━━━━━━━━━━━━━━━━━\u001b[0m\u001b[37m\u001b[0m \u001b[1m1s\u001b[0m 36ms/step - loss: 4.9538 - r2_score: -0.0776 - val_loss: 5.2146 - val_r2_score: -0.0494\n",
            "Epoch 8/25\n",
            "\u001b[1m11/11\u001b[0m \u001b[32m━━━━━━━━━━━━━━━━━━━━\u001b[0m\u001b[37m\u001b[0m \u001b[1m1s\u001b[0m 36ms/step - loss: 4.7228 - r2_score: -0.0386 - val_loss: 5.2668 - val_r2_score: -0.0599\n",
            "Epoch 9/25\n",
            "\u001b[1m11/11\u001b[0m \u001b[32m━━━━━━━━━━━━━━━━━━━━\u001b[0m\u001b[37m\u001b[0m \u001b[1m1s\u001b[0m 38ms/step - loss: 4.4492 - r2_score: -0.0197 - val_loss: 5.2441 - val_r2_score: -0.0554\n",
            "Epoch 10/25\n",
            "\u001b[1m11/11\u001b[0m \u001b[32m━━━━━━━━━━━━━━━━━━━━\u001b[0m\u001b[37m\u001b[0m \u001b[1m1s\u001b[0m 36ms/step - loss: 4.9687 - r2_score: -0.0151 - val_loss: 5.1353 - val_r2_score: -0.0335\n",
            "Epoch 11/25\n",
            "\u001b[1m11/11\u001b[0m \u001b[32m━━━━━━━━━━━━━━━━━━━━\u001b[0m\u001b[37m\u001b[0m \u001b[1m0s\u001b[0m 38ms/step - loss: 4.5341 - r2_score: -0.0173 - val_loss: 4.9985 - val_r2_score: -0.0059\n",
            "Epoch 12/25\n",
            "\u001b[1m11/11\u001b[0m \u001b[32m━━━━━━━━━━━━━━━━━━━━\u001b[0m\u001b[37m\u001b[0m \u001b[1m1s\u001b[0m 39ms/step - loss: 4.3892 - r2_score: 0.0092 - val_loss: 4.8712 - val_r2_score: 0.0197\n",
            "Epoch 13/25\n",
            "\u001b[1m11/11\u001b[0m \u001b[32m━━━━━━━━━━━━━━━━━━━━\u001b[0m\u001b[37m\u001b[0m \u001b[1m1s\u001b[0m 45ms/step - loss: 4.6346 - r2_score: 0.0325 - val_loss: 4.7232 - val_r2_score: 0.0495\n",
            "Epoch 14/25\n",
            "\u001b[1m11/11\u001b[0m \u001b[32m━━━━━━━━━━━━━━━━━━━━\u001b[0m\u001b[37m\u001b[0m \u001b[1m1s\u001b[0m 44ms/step - loss: 4.2167 - r2_score: 0.0454 - val_loss: 4.7836 - val_r2_score: 0.0373\n",
            "Epoch 15/25\n",
            "\u001b[1m11/11\u001b[0m \u001b[32m━━━━━━━━━━━━━━━━━━━━\u001b[0m\u001b[37m\u001b[0m \u001b[1m1s\u001b[0m 54ms/step - loss: 4.6212 - r2_score: 0.0397 - val_loss: 4.5946 - val_r2_score: 0.0753\n",
            "Epoch 16/25\n",
            "\u001b[1m11/11\u001b[0m \u001b[32m━━━━━━━━━━━━━━━━━━━━\u001b[0m\u001b[37m\u001b[0m \u001b[1m1s\u001b[0m 51ms/step - loss: 4.2374 - r2_score: 0.0645 - val_loss: 4.4888 - val_r2_score: 0.0966\n",
            "Epoch 17/25\n",
            "\u001b[1m11/11\u001b[0m \u001b[32m━━━━━━━━━━━━━━━━━━━━\u001b[0m\u001b[37m\u001b[0m \u001b[1m1s\u001b[0m 58ms/step - loss: 4.1766 - r2_score: 0.0701 - val_loss: 4.4208 - val_r2_score: 0.1103\n",
            "Epoch 18/25\n",
            "\u001b[1m11/11\u001b[0m \u001b[32m━━━━━━━━━━━━━━━━━━━━\u001b[0m\u001b[37m\u001b[0m \u001b[1m1s\u001b[0m 37ms/step - loss: 4.2811 - r2_score: 0.0746 - val_loss: 4.3023 - val_r2_score: 0.1342\n",
            "Epoch 19/25\n",
            "\u001b[1m11/11\u001b[0m \u001b[32m━━━━━━━━━━━━━━━━━━━━\u001b[0m\u001b[37m\u001b[0m \u001b[1m0s\u001b[0m 38ms/step - loss: 3.8287 - r2_score: 0.0990 - val_loss: 4.2185 - val_r2_score: 0.1510\n",
            "Epoch 20/25\n",
            "\u001b[1m11/11\u001b[0m \u001b[32m━━━━━━━━━━━━━━━━━━━━\u001b[0m\u001b[37m\u001b[0m \u001b[1m1s\u001b[0m 36ms/step - loss: 4.0599 - r2_score: 0.0986 - val_loss: 4.1029 - val_r2_score: 0.1743\n",
            "Epoch 21/25\n",
            "\u001b[1m11/11\u001b[0m \u001b[32m━━━━━━━━━━━━━━━━━━━━\u001b[0m\u001b[37m\u001b[0m \u001b[1m1s\u001b[0m 39ms/step - loss: 4.0072 - r2_score: 0.1165 - val_loss: 4.0860 - val_r2_score: 0.1777\n",
            "Epoch 22/25\n",
            "\u001b[1m11/11\u001b[0m \u001b[32m━━━━━━━━━━━━━━━━━━━━\u001b[0m\u001b[37m\u001b[0m \u001b[1m1s\u001b[0m 38ms/step - loss: 3.9721 - r2_score: 0.1379 - val_loss: 3.9555 - val_r2_score: 0.2040\n",
            "Epoch 23/25\n",
            "\u001b[1m11/11\u001b[0m \u001b[32m━━━━━━━━━━━━━━━━━━━━\u001b[0m\u001b[37m\u001b[0m \u001b[1m1s\u001b[0m 37ms/step - loss: 3.9209 - r2_score: 0.1396 - val_loss: 3.8753 - val_r2_score: 0.2201\n",
            "Epoch 24/25\n",
            "\u001b[1m11/11\u001b[0m \u001b[32m━━━━━━━━━━━━━━━━━━━━\u001b[0m\u001b[37m\u001b[0m \u001b[1m0s\u001b[0m 40ms/step - loss: 3.8350 - r2_score: 0.1379 - val_loss: 3.8558 - val_r2_score: 0.2240\n",
            "Epoch 25/25\n",
            "\u001b[1m11/11\u001b[0m \u001b[32m━━━━━━━━━━━━━━━━━━━━\u001b[0m\u001b[37m\u001b[0m \u001b[1m0s\u001b[0m 39ms/step - loss: 3.7353 - r2_score: 0.1682 - val_loss: 3.7269 - val_r2_score: 0.2500\n"
          ]
        }
      ],
      "source": [
        "history = model.fit(\n",
        "    X_train,\n",
        "    y_train,\n",
        "    validation_data=(X_val, y_val),\n",
        "    batch_size=32,\n",
        "    epochs=25,\n",
        "    callbacks=[early_stop]\n",
        ")"
      ]
    },
    {
      "cell_type": "markdown",
      "metadata": {
        "id": "M44DBWXAJu6B"
      },
      "source": [
        "## 5. Results\n",
        "\n",
        "To track training progress, we plotted both training and validation **loss** (MSE) and **R² score** across epochs.\n",
        "\n",
        "- **Train loss** steadily decreased, indicating good learning.\n",
        "- **Validation loss** remained relatively stable with slight fluctuations.\n",
        "- **R² scores** improved for both training and validation sets, showing the model's ability to capture variance.\n",
        "\n",
        "Finally, we evaluated the model on the held-out test set and reported:\n",
        "\n",
        "- **Test MSE**: *<your_value_here>*\n",
        "- **Test R² score**: *<your_value_here>*\n"
      ]
    },
    {
      "cell_type": "code",
      "execution_count": null,
      "metadata": {
        "colab": {
          "base_uri": "https://localhost:8080/",
          "height": 514
        },
        "id": "SD5JFtoxJu6B",
        "outputId": "84c89c42-3800-4d90-fd30-59faea54286b"
      },
      "outputs": [
        {
          "output_type": "display_data",
          "data": {
            "text/plain": [
              "<Figure size 1200x600 with 1 Axes>"
            ],
            "image/png": "[encoded data removed]"
          },
          "metadata": {}
        }
      ],
      "source": [
        "import matplotlib.pyplot as plt\n",
        "\n",
        "plt.figure(figsize=(12, 6))\n",
        "\n",
        "plt.plot(history.history['loss'], label=f\"Train loss(MSE)\")\n",
        "plt.plot(history.history['val_loss'], label=f\"Val loss(MSE)\")\n",
        "\n",
        "plt.title(\"Training and Validation Losses\")\n",
        "plt.xlabel(\"Epochs\")\n",
        "plt.ylabel(\"Value\")\n",
        "plt.legend()\n",
        "plt.grid(True)\n",
        "plt.tight_layout()\n",
        "plt.show()"
      ]
    },
    {
      "cell_type": "code",
      "execution_count": null,
      "metadata": {
        "colab": {
          "base_uri": "https://localhost:8080/",
          "height": 514
        },
        "id": "1c9I3mluJu6B",
        "outputId": "e5e17968-a2b2-4b99-ead2-de3b893d37d5"
      },
      "outputs": [
        {
          "output_type": "display_data",
          "data": {
            "text/plain": [
              "<Figure size 1200x600 with 1 Axes>"
            ],
            "image/png": "[encoded data removed]"
          },
          "metadata": {}
        }
      ],
      "source": [
        "plt.figure(figsize=(12, 6))\n",
        "\n",
        "plt.plot(history.history[\"r2_score\"], label=f\"Train R2-score\")\n",
        "plt.plot(history.history[\"val_r2_score\"], label=f\"Val R2-score\")\n",
        "\n",
        "plt.title(\"Training and Validation R2-Scores\")\n",
        "plt.xlabel(\"Epochs\")\n",
        "plt.ylabel(\"Value\")\n",
        "plt.legend()\n",
        "plt.grid(True)\n",
        "plt.tight_layout()\n",
        "plt.show()"
      ]
    },
    {
      "cell_type": "markdown",
      "metadata": {
        "id": "2Np1e-i9SMOQ"
      },
      "source": [
        "Below R2-score and MSE are shown on test part of dataset\n",
        "(for a full dataset R2-score=0.629 and MSE=1.58)"
      ]
    },
    {
      "cell_type": "code",
      "execution_count": null,
      "metadata": {
        "id": "exYOlv3UJu6B",
        "colab": {
          "base_uri": "https://localhost:8080/"
        },
        "outputId": "37501b29-497e-4cf3-bbe6-b7607362b285"
      },
      "outputs": [
        {
          "output_type": "stream",
          "name": "stdout",
          "text": [
            "\u001b[1m2/2\u001b[0m \u001b[32m━━━━━━━━━━━━━━━━━━━━\u001b[0m\u001b[37m\u001b[0m \u001b[1m0s\u001b[0m 245ms/step\n",
            "R²: 0.22704086077237162\n",
            "MSE: 2.299549057347664\n"
          ]
        }
      ],
      "source": [
        "from sklearn.metrics import r2_score, mean_squared_error\n",
        "\n",
        "y_pred = model.predict(X_test)\n",
        "print(\"R²:\", r2_score(y_test, y_pred))\n",
        "print(\"MSE:\", mean_squared_error(y_test, y_pred))"
      ]
    }
  ],
  "metadata": {
    "accelerator": "GPU",
    "colab": {
      "gpuType": "T4",
      "provenance": []
    },
    "kaggle": {
      "accelerator": "nvidiaTeslaT4",
      "dataSources": [
        {
          "datasetId": 870709,
          "sourceId": 1483651,
          "sourceType": "datasetVersion"
        },
        {
          "datasetId": 7742584,
          "sourceId": 12285518,
          "sourceType": "datasetVersion"
        }
      ],
      "dockerImageVersionId": 31041,
      "isGpuEnabled": true,
      "isInternetEnabled": true,
      "language": "python",
      "sourceType": "notebook"
    },
    "kernelspec": {
      "display_name": "Python 3",
      "name": "python3"
    },
    "language_info": {
      "codemirror_mode": {
        "name": "ipython",
        "version": 3
      },
      "file_extension": ".py",
      "mimetype": "text/x-python",
      "name": "python",
      "nbconvert_exporter": "python",
      "pygments_lexer": "ipython3",
      "version": "3.11.11"
    }
  },
  "nbformat": 4,
  "nbformat_minor": 0
}